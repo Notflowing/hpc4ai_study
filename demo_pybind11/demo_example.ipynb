{
 "cells": [
  {
   "cell_type": "code",
   "execution_count": 6,
   "metadata": {},
   "outputs": [
    {
     "data": {
      "text/plain": [
       "0"
      ]
     },
     "execution_count": 6,
     "metadata": {},
     "output_type": "execute_result"
    }
   ],
   "source": [
    "import os\n",
    "\n",
    "# os.system(\"gcc -v\")\n",
    "# os.environ[\"PATH\"] = \"/data0/home/wjl/software/gcc-9.4/usr/local/bin\" + os.environ[\"PATH\"]\n",
    "os.system(\"/data0/home/wjl/software/gcc-9.4/usr/local/bin/g++ -O3 -Wall -shared -std=c++14 -fPIC $(python3 -m pybind11 --includes) example.cpp -o example$(python3-config --extension-suffix)\")"
   ]
  },
  {
   "cell_type": "code",
   "execution_count": 7,
   "metadata": {},
   "outputs": [
    {
     "name": "stderr",
     "output_type": "stream",
     "text": [
      "Using built-in specs.\n",
      "COLLECT_GCC=/data0/home/wjl/software/gcc-9.4/usr/local/bin/gcc\n",
      "COLLECT_LTO_WRAPPER=/data0/home/wjl/software/gcc-9.4/usr/local/bin/../libexec/gcc/x86_64-pc-linux-gnu/9.4.0/lto-wrapper\n",
      "Target: x86_64-pc-linux-gnu\n",
      "Configured with: ../configure -enable-checking=release -enable-languages=c,c++,fortran -disable-multilib\n",
      "Thread model: posix\n",
      "gcc version 9.4.0 (GCC) \n"
     ]
    },
    {
     "data": {
      "text/plain": [
       "0"
      ]
     },
     "execution_count": 7,
     "metadata": {},
     "output_type": "execute_result"
    }
   ],
   "source": [
    "import os\n",
    "os.system(\"/data0/home/wjl/software/gcc-9.4/usr/local/bin/gcc -v\")"
   ]
  },
  {
   "cell_type": "code",
   "execution_count": 8,
   "metadata": {},
   "outputs": [
    {
     "name": "stdout",
     "output_type": "stream",
     "text": [
      "3\n"
     ]
    }
   ],
   "source": [
    "import example\n",
    "\n",
    "example.add(1, 2)\n",
    "\n",
    "example.add(i=2, j=3)\n",
    "example.lambdaadd(3, 4)\n",
    "print(example.add())"
   ]
  },
  {
   "cell_type": "code",
   "execution_count": 9,
   "metadata": {},
   "outputs": [
    {
     "data": {
      "text/plain": [
       "'world'"
      ]
     },
     "execution_count": 9,
     "metadata": {},
     "output_type": "execute_result"
    }
   ],
   "source": [
    "example.what"
   ]
  },
  {
   "cell_type": "code",
   "execution_count": 10,
   "metadata": {},
   "outputs": [
    {
     "name": "stdout",
     "output_type": "stream",
     "text": [
      "<example.Pet named 'Molly'>\n",
      "Molly\n",
      "Charly\n"
     ]
    }
   ],
   "source": [
    "p = example.Pet(\"Molly\")\n",
    "print(p)\n",
    "print(p.getName())\n",
    "\n",
    "p.setName(\"Charly\")\n",
    "print(p.getName())"
   ]
  },
  {
   "cell_type": "code",
   "execution_count": 11,
   "metadata": {},
   "outputs": [
    {
     "name": "stdout",
     "output_type": "stream",
     "text": [
      "Help on module example:\n",
      "\n",
      "NAME\n",
      "    example - pybind11 example plugin\n",
      "\n",
      "CLASSES\n",
      "    pybind11_builtins.pybind11_object(builtins.object)\n",
      "        Pet\n",
      "            Dog\n",
      "    \n",
      "    class Dog(Pet)\n",
      "     |  Method resolution order:\n",
      "     |      Dog\n",
      "     |      Pet\n",
      "     |      pybind11_builtins.pybind11_object\n",
      "     |      builtins.object\n",
      "     |  \n",
      "     |  Methods defined here:\n",
      "     |  \n",
      "     |  __init__(...)\n",
      "     |      __init__(self: example.Dog, arg0: str) -> None\n",
      "     |  \n",
      "     |  bark(...)\n",
      "     |      bark(self: example.Dog) -> str\n",
      "     |  \n",
      "     |  ----------------------------------------------------------------------\n",
      "     |  Methods inherited from Pet:\n",
      "     |  \n",
      "     |  __repr__(...)\n",
      "     |      __repr__(self: example.Pet) -> str\n",
      "     |  \n",
      "     |  getName(...)\n",
      "     |      getName(self: example.Pet) -> str\n",
      "     |  \n",
      "     |  set(...)\n",
      "     |      set(*args, **kwargs)\n",
      "     |      Overloaded function.\n",
      "     |      \n",
      "     |      1. set(self: example.Pet, arg0: int) -> None\n",
      "     |      \n",
      "     |      Set the Pet's age\n",
      "     |      \n",
      "     |      2. set(self: example.Pet, arg0: str) -> None\n",
      "     |      \n",
      "     |      Set the Pet's name\n",
      "     |  \n",
      "     |  setName(...)\n",
      "     |      setName(self: example.Pet, arg0: str) -> None\n",
      "     |  \n",
      "     |  ----------------------------------------------------------------------\n",
      "     |  Static methods inherited from pybind11_builtins.pybind11_object:\n",
      "     |  \n",
      "     |  __new__(*args, **kwargs) from pybind11_builtins.pybind11_type\n",
      "     |      Create and return a new object.  See help(type) for accurate signature.\n",
      "    \n",
      "    class Pet(pybind11_builtins.pybind11_object)\n",
      "     |  Method resolution order:\n",
      "     |      Pet\n",
      "     |      pybind11_builtins.pybind11_object\n",
      "     |      builtins.object\n",
      "     |  \n",
      "     |  Methods defined here:\n",
      "     |  \n",
      "     |  __init__(...)\n",
      "     |      __init__(*args, **kwargs)\n",
      "     |      Overloaded function.\n",
      "     |      \n",
      "     |      1. __init__(self: example.Pet, arg0: str) -> None\n",
      "     |      \n",
      "     |      2. __init__(self: example.Pet, arg0: int) -> None\n",
      "     |  \n",
      "     |  __repr__(...)\n",
      "     |      __repr__(self: example.Pet) -> str\n",
      "     |  \n",
      "     |  getName(...)\n",
      "     |      getName(self: example.Pet) -> str\n",
      "     |  \n",
      "     |  set(...)\n",
      "     |      set(*args, **kwargs)\n",
      "     |      Overloaded function.\n",
      "     |      \n",
      "     |      1. set(self: example.Pet, arg0: int) -> None\n",
      "     |      \n",
      "     |      Set the Pet's age\n",
      "     |      \n",
      "     |      2. set(self: example.Pet, arg0: str) -> None\n",
      "     |      \n",
      "     |      Set the Pet's name\n",
      "     |  \n",
      "     |  setName(...)\n",
      "     |      setName(self: example.Pet, arg0: str) -> None\n",
      "     |  \n",
      "     |  ----------------------------------------------------------------------\n",
      "     |  Static methods inherited from pybind11_builtins.pybind11_object:\n",
      "     |  \n",
      "     |  __new__(*args, **kwargs) from pybind11_builtins.pybind11_type\n",
      "     |      Create and return a new object.  See help(type) for accurate signature.\n",
      "\n",
      "FUNCTIONS\n",
      "    add(...) method of builtins.PyCapsule instance\n",
      "        add(i: int = 1, j: int = 2) -> int\n",
      "        \n",
      "        A function which adds two numbers\n",
      "    \n",
      "    lambdaadd(...) method of builtins.PyCapsule instance\n",
      "        lambdaadd(arg0: int, arg1: int) -> int\n",
      "        \n",
      "        Lambda function which adds two numbers\n",
      "    \n",
      "    pet_store(...) method of builtins.PyCapsule instance\n",
      "        pet_store() -> example.Pet\n",
      "\n",
      "DATA\n",
      "    the_answer = 42\n",
      "    what = 'world'\n",
      "\n",
      "FILE\n",
      "    /data0/home/wjl/pybind11_study/demo_test/example.cpython-39-x86_64-linux-gnu.so\n",
      "\n",
      "\n"
     ]
    }
   ],
   "source": [
    "help(example)"
   ]
  },
  {
   "cell_type": "code",
   "execution_count": 28,
   "metadata": {},
   "outputs": [
    {
     "name": "stdout",
     "output_type": "stream",
     "text": [
      "<example.Pet named 'overload_string'>\n",
      "<example.Pet named '2'>\n"
     ]
    }
   ],
   "source": [
    "class Pet:\n",
    "    name = \"Molly\"\n",
    "\n",
    "p = Pet()\n",
    "p.name = \"Charly\"\n",
    "p.name\n",
    "p.age = 2\n",
    "p.age\n",
    "p.__dict__\n",
    "pover1 = example.Pet(\"overload_string\")\n",
    "print(pover1)\n",
    "pover2 = example.Pet(2)\n",
    "print(pover2)"
   ]
  },
  {
   "cell_type": "code",
   "execution_count": 29,
   "metadata": {},
   "outputs": [
    {
     "data": {
      "text/plain": [
       "'woof!'"
      ]
     },
     "execution_count": 29,
     "metadata": {},
     "output_type": "execute_result"
    }
   ],
   "source": [
    "p = example.pet_store()\n",
    "type(p)\n",
    "p.getName()\n",
    "p.bark()"
   ]
  },
  {
   "cell_type": "code",
   "execution_count": 30,
   "metadata": {},
   "outputs": [
    {
     "data": {
      "text/plain": [
       "'Kisy'"
      ]
     },
     "execution_count": 30,
     "metadata": {},
     "output_type": "execute_result"
    }
   ],
   "source": [
    "a = example.Pet(\"Miake\")\n",
    "a\n",
    "a.set(\"Kisy\")\n",
    "a\n",
    "a.set(3)\n",
    "a.getName()"
   ]
  },
  {
   "cell_type": "code",
   "execution_count": 12,
   "metadata": {},
   "outputs": [
    {
     "name": "stdout",
     "output_type": "stream",
     "text": [
      "/data0/home/wjl/.conda/envs/hpc4ai/lib/python3.9/site-packages/torch/share/cmake\n"
     ]
    }
   ],
   "source": [
    "import torch\n",
    "print(torch.utils.cmake_prefix_path)"
   ]
  },
  {
   "cell_type": "code",
   "execution_count": 13,
   "metadata": {},
   "outputs": [
    {
     "name": "stdout",
     "output_type": "stream",
     "text": [
      "True\n",
      "True\n",
      "2\n",
      "11.0\n"
     ]
    }
   ],
   "source": [
    "import torch\n",
    "\n",
    "print(torch.cuda.is_available())\n",
    "print(torch.cuda.is_available()) # 查看CUDA是否可用\n",
    "print(torch.cuda.device_count()) # 查看可用的CUDA数量\n",
    "print(torch.version.cuda) # 查看CUDA的版本号"
   ]
  },
  {
   "cell_type": "code",
   "execution_count": 5,
   "metadata": {},
   "outputs": [
    {
     "name": "stdout",
     "output_type": "stream",
     "text": [
      "0.02050471305847168\n",
      "0.021311044692993164\n",
      "0.021350383758544922\n",
      "0.021377086639404297\n",
      "0.021451234817504883\n",
      "0.02350902557373047\n",
      "0.021384716033935547\n",
      "0.020934343338012695\n",
      "0.02094101905822754\n"
     ]
    }
   ],
   "source": [
    "import time\n",
    "\n",
    "for i in range(1, 10):\n",
    "    start = time.time()\n",
    "    a = torch.FloatTensor(1 * 100, 1000, 1000)\n",
    "    a = a.cuda()\n",
    "    a = torch.matmul(a, a)\n",
    "    end = time.time() - start\n",
    "    print(end)"
   ]
  }
 ],
 "metadata": {
  "kernelspec": {
   "display_name": "pytorch",
   "language": "python",
   "name": "python3"
  },
  "language_info": {
   "codemirror_mode": {
    "name": "ipython",
    "version": 3
   },
   "file_extension": ".py",
   "mimetype": "text/x-python",
   "name": "python",
   "nbconvert_exporter": "python",
   "pygments_lexer": "ipython3",
   "version": "3.9.18"
  }
 },
 "nbformat": 4,
 "nbformat_minor": 2
}
