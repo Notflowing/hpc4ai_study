{
 "cells": [
  {
   "cell_type": "code",
   "execution_count": 5,
   "metadata": {},
   "outputs": [],
   "source": [
    "# [B, C, H, W]的隐式卷积实现\n",
    "import numpy as np\n",
    "import torch\n",
    "from torch import nn\n",
    "import torch.nn.functional  as F\n",
    "\n",
    "inputB, intputC, inputH, inputW = 8, 5, 7, 7\n",
    "kernelO, kernelI, kernelH, kernelW = 3, 5, 3, 3\n",
    "input = np.arange(0, inputB * intputC * inputH * inputW).reshape(inputB, intputC, inputH, inputW).astype(np.int32)\n",
    "kernel = np.arange(kernelO * kernelI * kernelH * kernelW, dtype=np.int32)\\\n",
    "           .reshape(kernelO, kernelI, kernelH, kernelW)\n",
    "# kernel = np.ones([kernelO, kernelI, kernelH, kernelW], dtype=np.int32)\n",
    "# print(input.shape)\n",
    "# print(kernel)"
   ]
  },
  {
   "cell_type": "code",
   "execution_count": 6,
   "metadata": {},
   "outputs": [
    {
     "name": "stdout",
     "output_type": "stream",
     "text": [
      "output.shape:  (8, 3, 5, 5)\n",
      "pyoutput.shape:  torch.Size([8, 3, 5, 5])\n",
      "PASS!\n"
     ]
    }
   ],
   "source": [
    "# 获取特征图的形状\n",
    "inputB, inputC, inputH, inputW = input.shape\n",
    "# 获取filter kernel的形状\n",
    "kernelO, kernelI, kernelH, kernelW = kernel.shape\n",
    "# 设置填充和步幅\n",
    "padding = 0\n",
    "stride = 1\n",
    "# 计算卷积操作后输出特征图的维度信息\n",
    "outputB = inputB    # batch size\n",
    "outputC = kernelO\n",
    "outputH = int((inputH - kernelH + padding + stride) / stride)\n",
    "outputW = int((inputW - kernelW + padding + stride) / stride)\n",
    "# print(outputC, outputH, outputW)\n",
    "output = np.arange(0, outputB * outputC * outputH * outputW).reshape(outputB, outputC, outputH, outputW).astype(np.int32)\n",
    "\n",
    "# 隐式GEMM卷积的中间矩阵的维度信息\n",
    "GEMM_M = outputB * outputH * outputW\n",
    "GEMM_N = outputC\n",
    "GEMM_K = kernelI * kernelH * kernelW\n",
    "\n",
    "# i,j,k--矩阵乘法的三重遍历\n",
    "for i in range(GEMM_M):\n",
    "    for j in range(GEMM_N):\n",
    "        acc = 0\n",
    "        for k in range(GEMM_K):\n",
    "            # 中间矩阵A，B，C和tensor在各个位置上的元素的映射关系：\n",
    "            #   A(i, k) = input(n, ic, ih, iw); B(k, j) = kernel(oc, ic, kh, kw); C(i, j) = output(n, oc, oh, ow)\n",
    "            # 其中，有n = ib = ob; ic = ki; oc = ko;\n",
    "            # 中间矩阵A，B，C的下标i,j,k和tensor的坐标之间的对应关系：\n",
    "            #   i = n * outputH * outputW + oh * outputW + ow; j = oc; k = ic * kernelH * kernelW + kh * kernelW + kw\n",
    "\n",
    "            # 通过中间矩阵A，B，C的下标i,j,k和张量input，kernel，output的坐标之间的关系，反推出坐标指标\n",
    "            oc = j\n",
    "\n",
    "            # 推算出输出output的坐标\n",
    "            ob = i // (outputH * outputW)\n",
    "            i_res = i % (outputH * outputW)\n",
    "            oh = i_res // outputW\n",
    "            ow = i_res % outputW\n",
    "\n",
    "            # 推算出权重kernel的坐标\n",
    "            ic = k // (kernelH * kernelW)\n",
    "            k_res = k % (kernelH * kernelW)\n",
    "            kh = k_res // kernelW\n",
    "            kw = k_res % kernelW\n",
    "\n",
    "            # 推算出输入input的坐标\n",
    "            ih = oh * stride - padding + kh\n",
    "            iw = ow * stride - padding + kw\n",
    "\n",
    "            acc += input[ob, ic, ih, iw] * kernel[oc, ic, kh, kw]\n",
    "        \n",
    "        output[ob, oc, oh, ow] = acc\n",
    "\n",
    "print(\"output.shape: \", output.shape)\n",
    "\n",
    "# pytorch验证计算结果正确性\n",
    "inputTensor = input.reshape(inputB, inputC, inputH, inputW)\n",
    "weightTensor = kernel.reshape(kernelO, kernelI, kernelH, kernelW)\n",
    "inputTensor = torch.from_numpy(inputTensor)\n",
    "weightTensor = torch.from_numpy(weightTensor)\n",
    "\n",
    "pyoutput = F.conv2d(inputTensor, weightTensor, padding=padding, stride=stride)\n",
    "# print(\"\\ntorch convolution implementation:\")\n",
    "# print(pyoutput)\n",
    "print(\"pyoutput.shape: \", pyoutput.shape)\n",
    "\n",
    "# Convert tensor to ndarray\n",
    "def to_numpy(tensor):\n",
    "    return tensor.detach().cpu().numpy() if tensor.requires_grad else tensor.cpu().numpy()\n",
    "np.testing.assert_allclose(to_numpy(pyoutput), output, rtol=1e-03, atol=1e-05)\n",
    "print(\"PASS!\")"
   ]
  }
 ],
 "metadata": {
  "kernelspec": {
   "display_name": "hpc4ai",
   "language": "python",
   "name": "python3"
  },
  "language_info": {
   "codemirror_mode": {
    "name": "ipython",
    "version": 3
   },
   "file_extension": ".py",
   "mimetype": "text/x-python",
   "name": "python",
   "nbconvert_exporter": "python",
   "pygments_lexer": "ipython3",
   "version": "3.9.18"
  }
 },
 "nbformat": 4,
 "nbformat_minor": 2
}
